{
  "nbformat": 4,
  "nbformat_minor": 0,
  "metadata": {
    "colab": {
      "name": "CNG562_Final_Project_Summary.ipynb",
      "version": "0.3.2",
      "provenance": [],
      "collapsed_sections": [],
      "include_colab_link": true
    },
    "language_info": {
      "codemirror_mode": {
        "name": "ipython",
        "version": 3
      },
      "file_extension": ".py",
      "mimetype": "text/x-python",
      "name": "python",
      "nbconvert_exporter": "python",
      "pygments_lexer": "ipython3",
      "version": "3.6.8"
    },
    "kernelspec": {
      "display_name": "Python 3",
      "language": "python",
      "name": "python3"
    }
  },
  "cells": [
    {
      "cell_type": "markdown",
      "metadata": {
        "id": "view-in-github",
        "colab_type": "text"
      },
      "source": [
        "<a href=\"https://colab.research.google.com/github/semreyalcin/CNG562-FinalProject/blob/master/CNG562_Final_Project_Summary.ipynb\" target=\"_parent\"><img src=\"https://colab.research.google.com/assets/colab-badge.svg\" alt=\"Open In Colab\"/></a>"
      ]
    },
    {
      "cell_type": "markdown",
      "metadata": {
        "id": "LYNCtlAb-1eX",
        "colab_type": "text"
      },
      "source": [
        "# CNG 562 Final Project Summary\n",
        "\n",
        "\n",
        "## Participants (Ordered by Surname)\n",
        "\n",
        "1. Participant #1: Mehmet Semerci - 2152163\n",
        "2. Participant #2: Selim Emre Yalçın - 2152205\n",
        "\n"
      ]
    },
    {
      "cell_type": "markdown",
      "metadata": {
        "id": "7DlA3Jvf-1eY",
        "colab_type": "text"
      },
      "source": [
        "## Problem Description\n",
        "\n",
        "This project is based on a kaggle competition. The problem in this competition is to predict if the clients will repay a loan or not. Home credit is already using various statistical and machine learning methods to make predictions. However, they wanted to improve their performance and created a competition on kaggle."
      ]
    },
    {
      "cell_type": "markdown",
      "metadata": {
        "id": "SaW5ZYZd-1eY",
        "colab_type": "text"
      },
      "source": [
        "## Data Description\n",
        "\n",
        "The data consists of 7 different tables. \n",
        "* application_{train | test}: info about the loan and loan applicant at application time.\n",
        "* bureau: Application data from previous loans that client got from other instutions and that were reported to Credit Bureau.\n",
        "* bureau_balance: Monthly balance of credits in Credit Bureau.\n",
        "* previous_application: Application data of client's previous loans in Home Credit. Info About the previous loan parameters and client info at time of previous application.\n",
        "* POS_CASH_balance: Monthly balance of client's previous loans in Home Credit.\n",
        "* instalments_payments: Past payment data for each instalments of previous credits in Home Credit related to loans in our sample.\n",
        "* credit_card_balance: Monthly balance of client's previous credit card loans in Home Credit."
      ]
    },
    {
      "cell_type": "markdown",
      "metadata": {
        "id": "opdmiQiB-1eZ",
        "colab_type": "text"
      },
      "source": [
        "## Solution Description\n",
        "\n",
        "We tried to get best result by only using the main table because for the test data we didn't have other tables. First of all, when we examined the data. The main problem was the missing values. Around 97% of the rows contained at least 1 missing value. The first thing we did was to convert categorical data. We simply used dummy values for that purpose. Second thing was to fill this missing values in order to be able to test with missing value intolerant models. We used 2 different approaches in here just to see which one will perform better. First one was to use simple imputer which fills the missing data with the median of the column. Second one was to use iterative imputer which analyses the data by finding correlations between other columns and fills accordingly. After that we scaled our data and tried on different models.\n"
      ]
    },
    {
      "cell_type": "markdown",
      "metadata": {
        "id": "8-xejsEn-1eZ",
        "colab_type": "text"
      },
      "source": [
        "## Project Results\n",
        "\n",
        "We used Logistice Regression, Random Forest Classification and XGBoost to find out which one will perform better. When we trained the models with our test data we got very close results.\n",
        "\n",
        "* Logistic regression (Used grid search to make sure we don't overfit): 0.9194 (+/- 0.0004)\n",
        "* Random Forest Classification: 0.9192\n",
        "* XGBoost: 0.9196\n",
        "\n",
        "Since we got the best result with XGBoost, we used it to submit our results to competition.\n",
        "\n",
        "In this part of the project, we saw somethign we did wrong from the beginning. When we were testing the models we only used training data. However, our training data contained some columns that test data doesn't. To overcome that we aligned the both tables after we converted categorical data in order to get rid of the mismatched columns. After that we applied same procedure on both training and test datas.\n",
        "\n",
        "The submition results to kaggle were worse than we expected. We only got 0.51 score from the submition.\n",
        "\n"
      ]
    },
    {
      "cell_type": "markdown",
      "metadata": {
        "id": "usPm6pRq-1ea",
        "colab_type": "text"
      },
      "source": [
        "## Further Comments on your work\n",
        "\n",
        "If necessary, please add further information on your work on the final project."
      ]
    },
    {
      "cell_type": "code",
      "metadata": {
        "id": "DA4YamJd-1ea",
        "colab_type": "code",
        "colab": {}
      },
      "source": [
        ""
      ],
      "execution_count": 0,
      "outputs": []
    },
    {
      "cell_type": "code",
      "metadata": {
        "id": "0GjAVEEJ-1ec",
        "colab_type": "code",
        "colab": {}
      },
      "source": [
        ""
      ],
      "execution_count": 0,
      "outputs": []
    }
  ]
}