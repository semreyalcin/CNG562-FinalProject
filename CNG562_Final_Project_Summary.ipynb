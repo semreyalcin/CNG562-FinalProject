{
  "nbformat": 4,
  "nbformat_minor": 0,
  "metadata": {
    "colab": {
      "name": "CNG562_Final_Project_Summary.ipynb",
      "version": "0.3.2",
      "provenance": [],
      "collapsed_sections": [],
      "include_colab_link": true
    },
    "language_info": {
      "codemirror_mode": {
        "name": "ipython",
        "version": 3
      },
      "file_extension": ".py",
      "mimetype": "text/x-python",
      "name": "python",
      "nbconvert_exporter": "python",
      "pygments_lexer": "ipython3",
      "version": "3.6.8"
    },
    "kernelspec": {
      "display_name": "Python 3",
      "language": "python",
      "name": "python3"
    }
  },
  "cells": [
    {
      "cell_type": "markdown",
      "metadata": {
        "id": "view-in-github",
        "colab_type": "text"
      },
      "source": [
        "<a href=\"https://colab.research.google.com/github/semreyalcin/CNG562-FinalProject/blob/master/CNG562_Final_Project_Summary.ipynb\" target=\"_parent\"><img src=\"https://colab.research.google.com/assets/colab-badge.svg\" alt=\"Open In Colab\"/></a>"
      ]
    },
    {
      "cell_type": "markdown",
      "metadata": {
        "id": "LYNCtlAb-1eX",
        "colab_type": "text"
      },
      "source": [
        "# CNG 562 Final Project Summary\n",
        "\n",
        "\n",
        "## Participants (Ordered by Surname)\n",
        "\n",
        "1. Participant #1: Mehmet Semerci - 2152163\n",
        "2. Participant #2: Selim Emre Yalçın - 2152205\n",
        "\n"
      ]
    },
    {
      "cell_type": "markdown",
      "metadata": {
        "id": "7DlA3Jvf-1eY",
        "colab_type": "text"
      },
      "source": [
        "## Problem Description\n",
        "\n",
        "This project is based on a kaggle competition. The problem in this competition is to predict if the clients will repay a loan or not. Home credit is already using various statistical and machine learning methods to make predictions. However, they wanted to improve their performance and created a competition on kaggle."
      ]
    },
    {
      "cell_type": "markdown",
      "metadata": {
        "id": "SaW5ZYZd-1eY",
        "colab_type": "text"
      },
      "source": [
        "## Data Description\n",
        "\n",
        "The data consists of 7 different tables"
      ]
    },
    {
      "cell_type": "markdown",
      "metadata": {
        "id": "opdmiQiB-1eZ",
        "colab_type": "text"
      },
      "source": [
        "## Solution Description\n",
        "\n",
        "Comment on your work here.\n",
        "\n"
      ]
    },
    {
      "cell_type": "markdown",
      "metadata": {
        "id": "8-xejsEn-1eZ",
        "colab_type": "text"
      },
      "source": [
        "## Project Results\n",
        "\n",
        "Describe the results you have obtained.\n",
        "\n",
        "If you are able to submit your work to Kaggle, please state your position in the competition.\n"
      ]
    },
    {
      "cell_type": "markdown",
      "metadata": {
        "id": "usPm6pRq-1ea",
        "colab_type": "text"
      },
      "source": [
        "## Further Comments on your work\n",
        "\n",
        "If necessary, please add further information on your work on the final project."
      ]
    },
    {
      "cell_type": "code",
      "metadata": {
        "id": "DA4YamJd-1ea",
        "colab_type": "code",
        "colab": {}
      },
      "source": [
        ""
      ],
      "execution_count": 0,
      "outputs": []
    },
    {
      "cell_type": "code",
      "metadata": {
        "id": "0GjAVEEJ-1ec",
        "colab_type": "code",
        "colab": {}
      },
      "source": [
        ""
      ],
      "execution_count": 0,
      "outputs": []
    }
  ]
}